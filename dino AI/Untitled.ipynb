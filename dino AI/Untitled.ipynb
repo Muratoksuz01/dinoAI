{
 "cells": [
  {
   "cell_type": "code",
   "execution_count": 4,
   "id": "bcfd0b00-7eee-4a91-8b7b-fd9bfb2eef03",
   "metadata": {},
   "outputs": [],
   "source": [
    "# mss for screen cap\n",
    "from mss import mss\n",
    "# sending commands\n",
    "import pyautogui\n",
    "# opencv allawa us to do frame processing\n",
    "import cv2\n",
    "#transformational framework\n",
    "import numpy as np\n",
    "#OCR for gameover extraction\n",
    "import pytesseract\n",
    "#visualize captured frames\n",
    "from matplotlib import pyplot as plt\n",
    "#bring in the time for pauses\n",
    "import time\n",
    "# Enviroment components\n",
    "# from gym import Env\n",
    "from gym.spaces import Box,Discrete\n",
    "\n",
    "\n",
    "from gymnasium import Env,spaces\n"
   ]
  },
  {
   "cell_type": "code",
   "execution_count": null,
   "id": "f5a433d1",
   "metadata": {},
   "outputs": [],
   "source": []
  },
  {
   "cell_type": "code",
   "execution_count": 58,
   "id": "7d32711f",
   "metadata": {},
   "outputs": [],
   "source": [
    "def tim(a):\n",
    "    time.sleep(a)"
   ]
  },
  {
   "cell_type": "code",
   "execution_count": 59,
   "id": "da1cbe8c",
   "metadata": {},
   "outputs": [],
   "source": [
    "class WebGame(Env):\n",
    "    #setup the environment action and observation shapes\n",
    "    def __init__(self):\n",
    "        #Subclass model\n",
    "        super().__init__()\n",
    "        #setup spaces\n",
    "        self.observation_space=Box(low=0,high=255,shape=(1,83,100),dtype=np.uint8)\n",
    "        self.action_space=Discrete(3)\n",
    "        #define extraction parameters for the game\n",
    "        self.cap=mss()\n",
    "        # ekran 125 buyuklugunde \n",
    "        self.game_location={\"top\": 320, \"left\": 550, \"width\": 500, \"height\": 150}\n",
    "        self.score_location={\"top\": 290, \"left\": 1230, \"width\": 100, \"height\": 40}#scoru gosteriyor\n",
    "        self.done_location={\"top\":330 ,\"left\": 830,\"width\":270  ,\"height\": 30}\n",
    "        \n",
    "    # what is called to do something in the game\n",
    "    def step(self,action):\n",
    "        #action key - 0=space,1=duck(down),2=no action(no op)\n",
    "        action_map={0:\"up\",1:\"down\",2:\"no_op\"}\n",
    "        if action!=2:\n",
    "            pyautogui.press(action_map[action])\n",
    "        #checking wheter the game is done\n",
    "        done,done_cap=self.get_done()\n",
    "        #get the next observation\n",
    "        new_observation=self.get_observation()\n",
    "        #reward -we get a point for every frame\n",
    "        reward=int(1)\n",
    "        #info dictionary\n",
    "        info={}\n",
    "        #print(type(new_observation),type(reward),type(done),type(info))\n",
    "        return new_observation,reward,done,info\n",
    "    # visualize the game\n",
    "    def render(self):#                                                              \n",
    "        # plt.imshow(cv2.cvtColor(self.get_observation()[0],cv2.COLOR_GRAY2BGR))\n",
    "        cv2.imshow(\"Game\",np.array(self.cap.grab(self.game_location))[:,:,:3])\n",
    "        if cv2.waitKey(0) & 0xFF ==ord(\"q\"):\n",
    "            self.close()\n",
    "        \n",
    "    #reset the game\n",
    "    def reset(self):\n",
    "        time.sleep(1)\n",
    "        pyautogui.press(\"space\")\n",
    "        return self.get_observation()\n",
    "    #this closes down the observation\n",
    "    def close(self):\n",
    "        cv2.destroyAllWindows()\n",
    "    #get the part of the observation of the game that we want\n",
    "    def get_observation(self):\n",
    "        # get screen capture of game\n",
    "        raw=np.array(self.cap.grab(self.game_location))[:,:,:3]\n",
    "        gray=cv2.cvtColor(raw,cv2.COLOR_BGR2GRAY)\n",
    "        resized=cv2.resize(gray,(100,83))\n",
    "        channel=np.reshape(resized,(1,83,100))\n",
    "        return channel\n",
    "    #get the done text\n",
    "    def get_done(self):\n",
    "        done_cap=np.array(self.cap.grab(self.done_location))[:,:,:3]\n",
    "        done_strings=[\"GAME\",\"GAHE\"]\n",
    "        done=False\n",
    "        res=pytesseract.image_to_string(done_cap)[:4]\n",
    "        if res in done_strings:\n",
    "            done=True        \n",
    "        return done,done_cap"
   ]
  },
  {
   "cell_type": "code",
   "execution_count": null,
   "id": "df844e0f",
   "metadata": {},
   "outputs": [],
   "source": []
  },
  {
   "cell_type": "code",
   "execution_count": 60,
   "id": "daee6dcc",
   "metadata": {},
   "outputs": [],
   "source": [
    "env=WebGame()"
   ]
  },
  {
   "cell_type": "code",
   "execution_count": 44,
   "id": "8c5eba5a",
   "metadata": {},
   "outputs": [
    {
     "data": {
      "text/plain": [
       "2"
      ]
     },
     "execution_count": 44,
     "metadata": {},
     "output_type": "execute_result"
    }
   ],
   "source": [
    "env.action_space.sample()"
   ]
  },
  {
   "cell_type": "code",
   "execution_count": 29,
   "id": "00d6f476",
   "metadata": {},
   "outputs": [],
   "source": [
    "time.sleep(1) # oyun sonlandıgında reset olma \n",
    "env.reset()"
   ]
  },
  {
   "cell_type": "code",
   "execution_count": 25,
   "id": "4d5e4808",
   "metadata": {},
   "outputs": [],
   "source": [
    "time.sleep(2)# foto gosterme\n",
    "env.render()"
   ]
  },
  {
   "cell_type": "code",
   "execution_count": null,
   "id": "c857f6c1",
   "metadata": {},
   "outputs": [],
   "source": [
    "time.sleep(2)# gome over yazısı\n",
    "done,done_cap=env.get_done()\n",
    "print( done)\n",
    "plt.imshow(done_cap)"
   ]
  },
  {
   "cell_type": "code",
   "execution_count": 58,
   "id": "d285446c",
   "metadata": {},
   "outputs": [
    {
     "data": {
      "text/plain": [
       "<matplotlib.image.AxesImage at 0x7f353140a530>"
      ]
     },
     "execution_count": 58,
     "metadata": {},
     "output_type": "execute_result"
    },
    {
     "data": {
      "image/png": "[encoded data removed]",
      "text/plain": [
       "<Figure size 640x480 with 1 Axes>"
      ]
     },
     "metadata": {},
     "output_type": "display_data"
    }
   ],
   "source": [
    "time.sleep(2)# dino fotosu\n",
    "image=env.get_observation()[0]\n",
    "#image=cv2.cvtColor(image, cv2.COLOR_BGR2RGB)\n",
    "plt.imshow(image)"
   ]
  },
  {
   "cell_type": "code",
   "execution_count": null,
   "id": "392efc6a",
   "metadata": {},
   "outputs": [],
   "source": [
    "from  mss import mss# deneemm yanılma noktası \n",
    "import numpy as np\n",
    "import matplotlib.pyplot as plt\n",
    "import time,cv2\n",
    "# Ekran görüntüsünü alın\n",
    "m = mss()\n",
    "game={\"top\": 300, \"left\": 550, \"width\": 600, \"height\": 200}\n",
    "score={\"top\": 290, \"left\": 1230, \"width\": 100, \"height\": 40}\n",
    "done={\"top\":330 ,\"left\": 830,\"width\":270  ,\"height\": 30}\n",
    "time.sleep(2)\n",
    "screenshot = m.grab(done)\n",
    "\n",
    "# Ekran görüntüsünü NumPy dizisine dönüştürün\n",
    "image = np.array(screenshot)[:,:,:3]\n",
    "\n",
    "# Renkleri BGR'den RGB'ye dönüştürün (OpenCV varsayımı)\n",
    "image = cv2.cvtColor(image, cv2.COLOR_BGR2RGB)  # Bu satırı ekleyin\n",
    "\n",
    "# Ekran görüntüsünü gösterin\n",
    "# plt.imshow(image)\n",
    "# plt.show()\n",
    "\n",
    "cv2.imshow(\"Game\",image)\n",
    "if cv2.waitKey(1) & 0xFF== ord(\"q\"):\n",
    "    cv2.destroyAllWindows()"
   ]
  },
  {
   "cell_type": "code",
   "execution_count": 22,
   "id": "bc08f569",
   "metadata": {},
   "outputs": [],
   "source": [
    "import cv2# deneme yanılma \n",
    "img=cv2.imread(\"dene.png\")\n",
    "if img is None:\n",
    "    print(\"Resim yüklenemedi!\")\n",
    "img = cv2.cvtColor(img, cv2.COLOR_BGR2RGB)  # BGR'den RGB'ye dönüştürme\n",
    "cv2.imshow(\"Game\",img)\n",
    "# cv2.waitKey(5000)\n",
    "# cv2.destroyAllWindows()\n",
    "if cv2.waitKey(0) & 0xFF== ord(\"q\"):\n",
    "    cv2.destroyAllWindows()"
   ]
  },
  {
   "cell_type": "markdown",
   "id": "fc061817",
   "metadata": {},
   "source": [
    "# test enviroment"
   ]
  },
  {
   "cell_type": "code",
   "execution_count": 52,
   "id": "0d652397",
   "metadata": {},
   "outputs": [],
   "source": [
    "env=WebGame()"
   ]
  },
  {
   "cell_type": "code",
   "execution_count": 33,
   "id": "7ab5d224",
   "metadata": {},
   "outputs": [
    {
     "data": {
      "text/plain": [
       "<matplotlib.image.AxesImage at 0x7f31101c3400>"
      ]
     },
     "execution_count": 33,
     "metadata": {},
     "output_type": "execute_result"
    },
    {
     "data": {
      "image/png": "[encoded data removed]",
      "text/plain": [
       "<Figure size 640x480 with 1 Axes>"
      ]
     },
     "metadata": {},
     "output_type": "display_data"
    }
   ],
   "source": [
    "time.sleep(2)\n",
    "obs=env.get_observation()\n",
    "plt.imshow(cv2.cvtColor(obs[0],cv2.COLOR_GRAY2BGR))"
   ]
  },
  {
   "cell_type": "code",
   "execution_count": 34,
   "id": "8619294c",
   "metadata": {},
   "outputs": [
    {
     "name": "stdout",
     "output_type": "stream",
     "text": [
      "True\n"
     ]
    },
    {
     "data": {
      "text/plain": [
       "<matplotlib.image.AxesImage at 0x7f3110050430>"
      ]
     },
     "execution_count": 34,
     "metadata": {},
     "output_type": "execute_result"
    },
    {
     "data": {
      "image/png": "[encoded data removed]",
      "text/plain": [
       "<Figure size 640x480 with 1 Axes>"
      ]
     },
     "metadata": {},
     "output_type": "display_data"
    }
   ],
   "source": [
    "time.sleep(2)\n",
    "done,done_cap=env.get_done()\n",
    "print(done)\n",
    "plt.imshow(done_cap)"
   ]
  },
  {
   "cell_type": "code",
   "execution_count": 31,
   "id": "6c6f9b6d",
   "metadata": {},
   "outputs": [
    {
     "name": "stdout",
     "output_type": "stream",
     "text": [
      "total reward for episode 0 is 42\n",
      "total reward for episode 1 is 34\n",
      "total reward for episode 2 is 44\n",
      "total reward for episode 3 is 35\n",
      "total reward for episode 4 is 35\n"
     ]
    }
   ],
   "source": [
    "\n",
    "tim(2)#            return new_observation,reward,done,info\n",
    "\n",
    "for episode in range(5):\n",
    "    obs=env.reset()\n",
    "    done=False\n",
    "    total_reward=0\n",
    "    while not done:\n",
    "        obs,reward,done,info=env.step(env.action_space.sample())\n",
    "        total_reward+=reward\n",
    "    print(f\"total reward for episode {episode} is {total_reward}\")"
   ]
  },
  {
   "cell_type": "markdown",
   "id": "bb6ce64e",
   "metadata": {},
   "source": [
    "# create callback"
   ]
  },
  {
   "cell_type": "code",
   "execution_count": 18,
   "id": "04056aa7",
   "metadata": {},
   "outputs": [],
   "source": [
    "class WebGame(Env):\n",
    "    #setup the environment action and observation shapes\n",
    "    def __init__(self):\n",
    "        #Subclass model\n",
    "        super().__init__()\n",
    "        #setup spaces\n",
    "        self.observation_space=spaces.Box(low=0,high=255,shape=(1,83,100),dtype=np.uint8)\n",
    "        # self.action_space=Discrete(3)\n",
    "        self.action_space=spaces.Discrete(3)\n",
    "        #define extraction parameters for the game\n",
    "        self.cap=mss()\n",
    "        # ekran 125 buyuklugunde \n",
    "        self.game_location={\"top\": 320, \"left\": 550, \"width\": 500, \"height\": 150}\n",
    "        self.score_location={\"top\": 290, \"left\": 1230, \"width\": 100, \"height\": 40}#scoru gosteriyor\n",
    "        self.done_location={\"top\":330 ,\"left\": 830,\"width\":270  ,\"height\": 30}\n",
    "        \n",
    "    # what is called to do something in the game\n",
    "    #AssertionError: The `step()` method must return five values: obs, reward, terminated, truncated, info. Actual: 4 values returned.\n",
    "\n",
    "    def step(self,action):\n",
    "        #action key - 0=space,1=duck(down),2=no action(no op)\n",
    "        action_map={0:\"space\",1:\"down\",2:\"no_op\"}\n",
    "        if action!=2:\n",
    "            pyautogui.press(action_map[action])\n",
    "        #checking wheter the game is done\n",
    "        done,done_cap=self.get_done()\n",
    "        #get the next observation\n",
    "        new_observation=self.get_observation()\n",
    "        #reward -we get a point for every frame\n",
    "        reward=int(1)\n",
    "        #info dictionary\n",
    "        info={}\n",
    "        #print(type(new_observation),type(reward),type(done),type(info))\n",
    "        return new_observation,reward,done,True,info\n",
    "    # visualize the game\n",
    "    def render(self):#                                                              \n",
    "        # plt.imshow(cv2.cvtColor(self.get_observation()[0],cv2.COLOR_GRAY2BGR))\n",
    "        cv2.imshow(\"Game\",np.array(self.cap.grab(self.game_location))[:,:,:3])\n",
    "        if cv2.waitKey(0) & 0xFF ==ord(\"q\"):\n",
    "            self.close()\n",
    "        \n",
    "    #reset the game\n",
    "    def reset(self,seed=None):\n",
    "        time.sleep(1)\n",
    "        pyautogui.press(\"space\")\n",
    "        info={}\n",
    "        return (self.get_observation(),info)\n",
    "    #this closes down the observation\n",
    "    def close(self):\n",
    "        cv2.destroyAllWindows()\n",
    "    #get the part of the observation of the game that we want\n",
    "    def get_observation(self):\n",
    "        # get screen capture of game\n",
    "        raw=np.array(self.cap.grab(self.game_location))[:,:,:3]\n",
    "        gray=cv2.cvtColor(raw,cv2.COLOR_BGR2GRAY)\n",
    "        resized=cv2.resize(gray,(100,83))\n",
    "        channel=np.reshape(resized,(1,83,100))\n",
    "        return channel\n",
    "    #get the done text\n",
    "    def get_done(self):\n",
    "        done_cap=np.array(self.cap.grab(self.done_location))[:,:,:3]\n",
    "        done_strings=[\"GAME\",\"GAHE\"]\n",
    "        done=False\n",
    "        res=pytesseract.image_to_string(done_cap)[:4]\n",
    "        if res in done_strings:\n",
    "            done=True        \n",
    "        return done,done_cap"
   ]
  },
  {
   "cell_type": "code",
   "execution_count": 19,
   "id": "c499030b",
   "metadata": {},
   "outputs": [],
   "source": [
    "env=WebGame()"
   ]
  },
  {
   "cell_type": "code",
   "execution_count": 20,
   "id": "837c4415",
   "metadata": {},
   "outputs": [
    {
     "data": {
      "text/plain": [
       "(Box(0, 255, (1, 83, 100), uint8), Discrete(3))"
      ]
     },
     "execution_count": 20,
     "metadata": {},
     "output_type": "execute_result"
    }
   ],
   "source": [
    "env.observation_space,env.action_space"
   ]
  },
  {
   "cell_type": "code",
   "execution_count": 21,
   "id": "a2275b5d",
   "metadata": {},
   "outputs": [],
   "source": [
    "import os \n",
    "from stable_baselines3.common.callbacks import BaseCallback\n",
    "\n",
    "from stable_baselines3.common import env_checker\n",
    "env_checker.check_env(env)\n"
   ]
  },
  {
   "cell_type": "code",
   "execution_count": 22,
   "id": "22c2c0bd",
   "metadata": {},
   "outputs": [],
   "source": [
    "class TrainAndLoggingCallback(BaseCallback):\n",
    "\n",
    "    def __init__(self, check_freq, save_path, verbose=1):\n",
    "        super(TrainAndLoggingCallback, self).__init__(verbose)\n",
    "        self.check_freq = check_freq\n",
    "        self.save_path = save_path\n",
    "\n",
    "    def _init_callback(self):\n",
    "        if self.save_path is not None:\n",
    "            os.makedirs(self.save_path, exist_ok=True)\n",
    "\n",
    "    def _on_step(self):\n",
    "        if self.n_calls % self.check_freq == 0:\n",
    "            model_path = os.path.join(self.save_path, 'best_model_{}'.format(self.n_calls))\n",
    "            self.model.save(model_path)\n",
    "\n",
    "        return True"
   ]
  },
  {
   "cell_type": "code",
   "execution_count": 23,
   "id": "7e65ac03",
   "metadata": {},
   "outputs": [],
   "source": [
    "CHECKPOINT_DIR = './train/'\n",
    "LOG_DIR = './logs/'"
   ]
  },
  {
   "cell_type": "code",
   "execution_count": 27,
   "id": "5e68a515",
   "metadata": {},
   "outputs": [],
   "source": [
    "callback = TrainAndLoggingCallback(check_freq=100, save_path=CHECKPOINT_DIR)\n"
   ]
  },
  {
   "cell_type": "markdown",
   "id": "4daed555",
   "metadata": {},
   "source": [
    "## 3.2 Build DQN and Train"
   ]
  },
  {
   "cell_type": "code",
   "execution_count": 28,
   "id": "5e28f76f",
   "metadata": {},
   "outputs": [],
   "source": [
    "from stable_baselines3 import DQN\n",
    "from stable_baselines3.common.monitor import Monitor\n",
    "from stable_baselines3.common.vec_env import DummyVecEnv, VecFrameStack"
   ]
  },
  {
   "cell_type": "code",
   "execution_count": null,
   "id": "473d3681",
   "metadata": {},
   "outputs": [],
   "source": [
    "model = DQN('CnnPolicy', env, tensorboard_log=LOG_DIR, verbose=1, buffer_size=12000, learning_starts=1000)\n",
    "model.learn(total_timesteps=1000, callback=callback)\n"
   ]
  },
  {
   "cell_type": "code",
   "execution_count": 40,
   "id": "35789b8e",
   "metadata": {},
   "outputs": [],
   "source": [
    "model=DQN.load(\"train/best_model_600\")"
   ]
  },
  {
   "cell_type": "markdown",
   "id": "6e5fcd78",
   "metadata": {},
   "source": [
    "# 4. Test out Model"
   ]
  },
  {
   "cell_type": "code",
   "execution_count": 41,
   "id": "a9c6ec72",
   "metadata": {},
   "outputs": [
    {
     "name": "stdout",
     "output_type": "stream",
     "text": [
      "Total Reward for epi     sode 0 is 25\n",
      "Total Reward for epi     sode 1 is 25\n",
      "Total Reward for epi     sode 2 is 25\n",
      "Total Reward for epi     sode 3 is 36\n",
      "Total Reward for epi     sode 4 is 37\n"
     ]
    }
   ],
   "source": [
    "for episode in range(5): \n",
    "    obs ,_= env.reset()\n",
    "    done = False\n",
    "    total_reward = 0 \n",
    "    while not done:  \n",
    "        action, _ = model.predict(obs)\n",
    "        obs, reward,  done, _,info = env.step(int(action))\n",
    "        total_reward += reward \n",
    "    print('Total Reward for episode {} is {}'.format(episode, total_reward))\n",
    "    time.sleep(1)            "
   ]
  },
  {
   "cell_type": "code",
   "execution_count": null,
   "id": "5c453bd8",
   "metadata": {},
   "outputs": [],
   "source": []
  }
 ],
 "metadata": {
  "kernelspec": {
   "display_name": "webgame",
   "language": "python",
   "name": "python3"
  },
  "language_info": {
   "codemirror_mode": {
    "name": "ipython",
    "version": 3
   },
   "file_extension": ".py",
   "mimetype": "text/x-python",
   "name": "python",
   "nbconvert_exporter": "python",
   "pygments_lexer": "ipython3",
   "version": "3.10.12"
  }
 },
 "nbformat": 4,
 "nbformat_minor": 5
}
