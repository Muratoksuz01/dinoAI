{
 "cells": [
  {
   "cell_type": "code",
   "execution_count": null,
   "id": "62177e16-8145-4c6d-9546-d92f750916f9",
   "metadata": {},
   "outputs": [],
   "source": [
    "!pip3 install torch torchvision torchaudio --index-url https://download.pytorch.org/whl/cu118"
   ]
  },
  {
   "cell_type": "code",
   "execution_count": null,
   "id": "cace7141-b5e2-4520-b71d-048bead39995",
   "metadata": {},
   "outputs": [],
   "source": [
    "!pip install stable-baselines3[extra] protobuf==3.20.*"
   ]
  },
  {
   "cell_type": "code",
   "execution_count": 63,
   "id": "31475e79-2be6-4b35-8599-954273f61843",
   "metadata": {},
   "outputs": [
    {
     "name": "stdout",
     "output_type": "stream",
     "text": [
      "Collecting tk\n",
      "  Downloading tk-0.1.0-py3-none-any.whl.metadata (693 bytes)\n",
      "Downloading tk-0.1.0-py3-none-any.whl (3.9 kB)\n",
      "Installing collected packages: tk\n",
      "Successfully installed tk-0.1.0\n"
     ]
    }
   ],
   "source": [
    "!pip install tk"
   ]
  },
  {
   "cell_type": "code",
   "execution_count": 26,
   "id": "bcfd0b00-7eee-4a91-8b7b-fd9bfb2eef03",
   "metadata": {},
   "outputs": [],
   "source": [
    "# mss for screen cap\n",
    "from mss import mss\n",
    "# sending commands\n",
    "import keyboard\n",
    "# opencv allawa us to do frame processing\n",
    "import cv2\n",
    "#transformational framework\n",
    "import numpy as np\n",
    "#OOCR for gameover extraction\n",
    "import pytesseract\n",
    "#visualize captured frames\n",
    "from matplotlib import pyplot as plt\n",
    "#bring in the time for pauses\n",
    "import time\n",
    "# Enviroment components\n",
    "from gym import Env\n",
    "from gym.spaces import Box,Discrete"
   ]
  },
  {
   "cell_type": "code",
   "execution_count": 123,
   "id": "da1cbe8c",
   "metadata": {},
   "outputs": [],
   "source": [
    "class WebGame:\n",
    "    #setup the environment action and observation shapes\n",
    "    def __init__(self):\n",
    "        #Subclass model\n",
    "        super().__init__()\n",
    "        #setup spaces\n",
    "        self.observation_space=Box(low=0,high=255,shape=(1,83,100),dtype=np.uint8)\n",
    "        self.action_space=Discrete(3)\n",
    "        #define extraction parameters for the game\n",
    "        self.cap=mss()\n",
    "        # ekran 125 buyuklugunde \n",
    "        self.game_location={\"top\": 300, \"left\": 550, \"width\": 600, \"height\": 200}\n",
    "        self.done_location={\"top\": 290, \"left\": 1230, \"width\": 100, \"height\": 40}\n",
    "        \n",
    "    # what is called to do something in the game\n",
    "    def step(self):\n",
    "        #action key - 0=space,1=duck(down),2=no action(no op)\n",
    "        pass \n",
    "    # visualize the game\n",
    "    def render(self):\n",
    "        pass\n",
    "    #reset the game\n",
    "    def reset(self):\n",
    "        pass\n",
    "    #this closes down the observation\n",
    "    def close(self):\n",
    "        pass\n",
    "    #get the part of the observation of the game that we want\n",
    "    def get_observation(self):\n",
    "        # get screen capture of game\n",
    "        raw=np.array(self.cap.grab(self.game_location))[:,:,:3]\n",
    "        gray=cv2.cvtColor(raw,cv2.COLOR_BGR2GRAY)\n",
    "        resized=cv2.resize(gray,(100,83))\n",
    "        channel=np.reshape(resized,(1,83,100))\n",
    "        \n",
    "        return channel\n",
    "    #get the done text\n",
    "    def get_done(self):\n",
    "        pass"
   ]
  },
  {
   "cell_type": "code",
   "execution_count": 124,
   "id": "daee6dcc",
   "metadata": {},
   "outputs": [],
   "source": [
    "env=WebGame()\n",
    "chrome 125 ayarında \n"
   ]
  },
  {
   "cell_type": "code",
   "execution_count": 127,
   "id": "d285446c",
   "metadata": {},
   "outputs": [
    {
     "data": {
      "text/plain": [
       "<matplotlib.image.AxesImage at 0x7fb7f9f0f400>"
      ]
     },
     "execution_count": 127,
     "metadata": {},
     "output_type": "execute_result"
    },
    {
     "data": {
      "image/png": "[encoded data removed]",
      "text/plain": [
       "<Figure size 640x480 with 1 Axes>"
      ]
     },
     "metadata": {},
     "output_type": "display_data"
    }
   ],
   "source": [
    "time.sleep(2)\n",
    "image=env.get_observation()[0]\n",
    "#print(image.dtype)\n",
    "#image=cv2.cvtColor(image, cv2.COLOR_BGR2RGB)\n",
    "plt.imshow(image)"
   ]
  },
  {
   "cell_type": "code",
   "execution_count": 122,
   "id": "6ed7db3c",
   "metadata": {},
   "outputs": [
    {
     "data": {
      "text/plain": [
       "array([[[24, 24, 24],\n",
       "        [24, 24, 24],\n",
       "        [24, 24, 24],\n",
       "        ...,\n",
       "        [24, 24, 24],\n",
       "        [24, 24, 24],\n",
       "        [24, 24, 24]],\n",
       "\n",
       "       [[24, 24, 24],\n",
       "        [24, 24, 24],\n",
       "        [24, 24, 24],\n",
       "        ...,\n",
       "        [24, 24, 24],\n",
       "        [24, 24, 24],\n",
       "        [24, 24, 24]],\n",
       "\n",
       "       [[24, 24, 24],\n",
       "        [24, 24, 24],\n",
       "        [24, 24, 24],\n",
       "        ...,\n",
       "        [24, 24, 24],\n",
       "        [24, 24, 24],\n",
       "        [24, 24, 24]],\n",
       "\n",
       "       ...,\n",
       "\n",
       "       [[24, 24, 24],\n",
       "        [24, 24, 24],\n",
       "        [24, 24, 24],\n",
       "        ...,\n",
       "        [24, 24, 24],\n",
       "        [24, 24, 24],\n",
       "        [24, 24, 24]],\n",
       "\n",
       "       [[24, 24, 24],\n",
       "        [24, 24, 24],\n",
       "        [24, 24, 24],\n",
       "        ...,\n",
       "        [24, 24, 24],\n",
       "        [24, 24, 24],\n",
       "        [24, 24, 24]],\n",
       "\n",
       "       [[24, 24, 24],\n",
       "        [24, 24, 24],\n",
       "        [24, 24, 24],\n",
       "        ...,\n",
       "        [24, 24, 24],\n",
       "        [24, 24, 24],\n",
       "        [24, 24, 24]]], dtype=uint8)"
      ]
     },
     "execution_count": 122,
     "metadata": {},
     "output_type": "execute_result"
    }
   ],
   "source": [
    "image"
   ]
  },
  {
   "cell_type": "code",
   "execution_count": 33,
   "id": "48467b74",
   "metadata": {},
   "outputs": [
    {
     "data": {
      "text/plain": [
       "0"
      ]
     },
     "execution_count": 33,
     "metadata": {},
     "output_type": "execute_result"
    }
   ],
   "source": [
    "env.action_space.sample()\n"
   ]
  },
  {
   "cell_type": "code",
   "execution_count": null,
   "id": "c857f6c1",
   "metadata": {},
   "outputs": [],
   "source": []
  },
  {
   "cell_type": "code",
   "execution_count": 112,
   "id": "392efc6a",
   "metadata": {},
   "outputs": [
    {
     "data": {
      "image/png": "[encoded data removed]",
      "text/plain": [
       "<Figure size 640x480 with 1 Axes>"
      ]
     },
     "metadata": {},
     "output_type": "display_data"
    }
   ],
   "source": [
    "from  mss import mss\n",
    "import numpy as np\n",
    "import matplotlib.pyplot as plt\n",
    "# Ekran görüntüsünü alın\n",
    "m = mss()\n",
    "game={\"top\": 300, \"left\": 550, \"width\": 600, \"height\": 200}\n",
    "done={\"top\": 290, \"left\": 1230, \"width\": 100, \"height\": 40}\n",
    "\n",
    "time.sleep(2)\n",
    "screenshot = m.grab(done)\n",
    "\n",
    "# Ekran görüntüsünü NumPy dizisine dönüştürün\n",
    "image = np.array(screenshot)\n",
    "\n",
    "# Renkleri BGR'den RGB'ye dönüştürün (OpenCV varsayımı)\n",
    "image = cv2.cvtColor(image, cv2.COLOR_BGR2RGB)  # Bu satırı ekleyin\n",
    "\n",
    "# Ekran görüntüsünü gösterin\n",
    "plt.imshow(image)\n",
    "plt.show()\n"
   ]
  },
  {
   "cell_type": "code",
   "execution_count": null,
   "id": "52ab319d",
   "metadata": {},
   "outputs": [],
   "source": []
  },
  {
   "cell_type": "code",
   "execution_count": null,
   "id": "5560c87c",
   "metadata": {},
   "outputs": [],
   "source": []
  },
  {
   "cell_type": "code",
   "execution_count": null,
   "id": "bc08f569",
   "metadata": {},
   "outputs": [],
   "source": []
  }
 ],
 "metadata": {
  "kernelspec": {
   "display_name": "webgame",
   "language": "python",
   "name": "python3"
  },
  "language_info": {
   "codemirror_mode": {
    "name": "ipython",
    "version": 3
   },
   "file_extension": ".py",
   "mimetype": "text/x-python",
   "name": "python",
   "nbconvert_exporter": "python",
   "pygments_lexer": "ipython3",
   "version": "3.10.12"
  }
 },
 "nbformat": 4,
 "nbformat_minor": 5
}
